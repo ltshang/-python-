{
 "cells": [
  {
   "cell_type": "code",
   "execution_count": 1,
   "metadata": {},
   "outputs": [
    {
     "name": "stdout",
     "output_type": "stream",
     "text": [
      "pygame 1.9.4\n",
      "Hello from the pygame community. https://www.pygame.org/contribute.html\n"
     ]
    },
    {
     "ename": "SystemExit",
     "evalue": "",
     "output_type": "error",
     "traceback": [
      "An exception has occurred, use %tb to see the full traceback.\n",
      "\u001b[1;31mSystemExit\u001b[0m\n"
     ]
    },
    {
     "name": "stderr",
     "output_type": "stream",
     "text": [
      "D:\\Anaconda3\\lib\\site-packages\\IPython\\core\\interactiveshell.py:2969: UserWarning: To exit: use 'exit', 'quit', or Ctrl-D.\n",
      "  warn(\"To exit: use 'exit', 'quit', or Ctrl-D.\", stacklevel=1)\n"
     ]
    }
   ],
   "source": [
    "import sys\n",
    "import pygame\n",
    "from pygame.locals import *\n",
    "\n",
    "SIZE = 30  # 每个小方格大小\n",
    "BLOCK_HEIGHT = 20  # 游戏区高度\n",
    "BLOCK_WIDTH = 10   # 游戏区宽度\n",
    "BORDER_WIDTH = 4   # 游戏区边框宽度\n",
    "BORDER_COLOR = (40, 40, 200)  # 游戏区边框颜色\n",
    "SCREEN_WIDTH = SIZE * (BLOCK_WIDTH + 5)  # 游戏屏幕的宽\n",
    "SCREEN_HEIGHT = SIZE * BLOCK_HEIGHT      # 游戏屏幕的高\n",
    "BG_COLOR = (40, 40, 60)  # 背景色\n",
    "BLACK = (0, 0, 0)\n",
    "\n",
    "\n",
    "def print_text(screen, font, x, y, text, fcolor=(255, 255, 255)):\n",
    "    imgText = font.render(text, True, fcolor)\n",
    "    screen.blit(imgText, (x, y))\n",
    "\n",
    "\n",
    "def main():\n",
    "    pygame.init()\n",
    "    screen = pygame.display.set_mode((SCREEN_WIDTH, SCREEN_HEIGHT))\n",
    "    pygame.display.set_caption('俄罗斯方块')\n",
    "\n",
    "    font1 = pygame.font.SysFont('SimHei', 24)  # 黑体24\n",
    "    font_pos_x = BLOCK_WIDTH * SIZE + BORDER_WIDTH + 10  # 右侧信息显示区域字体位置的X坐标\n",
    "    font1_height = int(font1.size('得分')[1])\n",
    "\n",
    "    score = 0           # 得分\n",
    "\n",
    "    while True:\n",
    "        for event in pygame.event.get():\n",
    "            if event.type == QUIT:\n",
    "                sys.exit()\n",
    "\n",
    "        # 填充背景色\n",
    "        screen.fill(BG_COLOR)\n",
    "        # 画游戏区域分隔线\n",
    "        pygame.draw.line(screen, BORDER_COLOR,\n",
    "                         (SIZE * BLOCK_WIDTH + BORDER_WIDTH // 2, 0),\n",
    "                         (SIZE * BLOCK_WIDTH + BORDER_WIDTH // 2, SCREEN_HEIGHT), BORDER_WIDTH)\n",
    "        # 画网格线 竖线\n",
    "        for x in range(BLOCK_WIDTH):\n",
    "            pygame.draw.line(screen, BLACK, (x * SIZE, 0), (x * SIZE, SCREEN_HEIGHT), 1)\n",
    "        # 画网格线 横线\n",
    "        for y in range(BLOCK_HEIGHT):\n",
    "            pygame.draw.line(screen, BLACK, (0, y * SIZE), (BLOCK_WIDTH * SIZE, y * SIZE), 1)\n",
    "\n",
    "        print_text(screen, font1, font_pos_x, 10, f'得分: ')\n",
    "        print_text(screen, font1, font_pos_x, 10 + font1_height + 6, f'{score}')\n",
    "        print_text(screen, font1, font_pos_x, 20 + (font1_height + 6) * 2, f'速度: ')\n",
    "        print_text(screen, font1, font_pos_x, 20 + (font1_height + 6) * 3, f'{score // 10000}')\n",
    "        print_text(screen, font1, font_pos_x, 30 + (font1_height + 6) * 4, f'下一个：')\n",
    "\n",
    "        pygame.display.flip()\n",
    "\n",
    "\n",
    "if __name__ == '__main__':\n",
    "    main()"
   ]
  },
  {
   "cell_type": "code",
   "execution_count": null,
   "metadata": {},
   "outputs": [],
   "source": [
    "from collections import namedtuple\n",
    "\n",
    "Point = namedtuple('Point', 'X Y')\n",
    "Block = namedtuple('Block', 'template start_pos end_pos name next')\n",
    "\n",
    "# S形方块\n",
    "S_BLOCK = [Block(['.00',\n",
    "                  '00.',\n",
    "                  '...'], Point(0, 0), Point(2, 1), 'S', 1),\n",
    "           Block(['0..',\n",
    "                  '00.',\n",
    "                  '.0.'], Point(0, 0), Point(1, 2), 'S', 0)]\n",
    "BLOCKS = {'O': O_BLOCK,\n",
    "          'I': I_BLOCK,\n",
    "          'Z': Z_BLOCK,\n",
    "          'T': T_BLOCK,\n",
    "          'L': L_BLOCK,\n",
    "          'S': S_BLOCK,\n",
    "          'J': J_BLOCK}\n",
    "\n",
    "\n",
    "def get_block():\n",
    "    block_name = random.choice('OIZTLSJ')\n",
    "    b = BLOCKS[block_name]\n",
    "    idx = random.randint(0, len(b) - 1)\n",
    "    return b[idx]\n",
    "\n",
    "\n",
    "# 获取旋转后的方块\n",
    "def get_next_block(block):\n",
    "    b = BLOCKS[block.name]\n",
    "    return b[block.next]\n",
    "\n",
    "def _judge(pos_x, pos_y, block):\n",
    "    nonlocal game_area\n",
    "    for _i in range(block.start_pos.Y, block.end_pos.Y + 1):\n",
    "        if pos_y + block.end_pos.Y >= BLOCK_HEIGHT:\n",
    "            return False\n",
    "        for _j in range(block.start_pos.X, block.end_pos.X + 1):\n",
    "            if pos_y + _i >= 0 and block.template[_i][_j] != '.' and game_area[pos_y + _i][pos_x + _j] != '.':\n",
    "                return False\n",
    "    return True"
   ]
  },
  {
   "cell_type": "code",
   "execution_count": null,
   "metadata": {},
   "outputs": [],
   "source": [
    "def _dock():\n",
    "    nonlocal cur_block, next_block, game_area, cur_pos_x, cur_pos_y, game_over\n",
    "    for _i in range(cur_block.start_pos.Y, cur_block.end_pos.Y + 1):\n",
    "        for _j in range(cur_block.start_pos.X, cur_block.end_pos.X + 1):\n",
    "            if cur_block.template[_i][_j] != '.':\n",
    "                game_area[cur_pos_y + _i][cur_pos_x + _j] = '0'\n",
    "    if cur_pos_y + cur_block.start_pos.Y <= 0:\n",
    "        game_over = True\n",
    "    else:\n",
    "        # 计算消除\n",
    "        remove_idxs = []\n",
    "        for _i in range(cur_block.start_pos.Y, cur_block.end_pos.Y + 1):\n",
    "            if all(_x == '0' for _x in game_area[cur_pos_y + _i]):\n",
    "                remove_idxs.append(cur_pos_y + _i)\n",
    "        if remove_idxs:\n",
    "            # 消除\n",
    "            _i = _j = remove_idxs[-1]\n",
    "            while _i >= 0:\n",
    "                while _j in remove_idxs:\n",
    "                    _j -= 1\n",
    "                if _j < 0:\n",
    "                    game_area[_i] = ['.'] * BLOCK_WIDTH\n",
    "                else:\n",
    "                    game_area[_i] = game_area[_j]\n",
    "                _i -= 1\n",
    "                _j -= 1\n",
    "        cur_block = next_block\n",
    "        next_block = blocks.get_block()\n",
    "        cur_pos_x, cur_pos_y = (BLOCK_WIDTH - cur_block.end_pos.X - 1) // 2, -1 - cur_block.end_pos.Y"
   ]
  },
  {
   "cell_type": "code",
   "execution_count": null,
   "metadata": {},
   "outputs": [],
   "source": []
  },
  {
   "cell_type": "code",
   "execution_count": null,
   "metadata": {},
   "outputs": [],
   "source": []
  },
  {
   "cell_type": "code",
   "execution_count": null,
   "metadata": {},
   "outputs": [],
   "source": []
  },
  {
   "cell_type": "code",
   "execution_count": null,
   "metadata": {},
   "outputs": [],
   "source": []
  }
 ],
 "metadata": {
  "kernelspec": {
   "display_name": "Python 3",
   "language": "python",
   "name": "python3"
  },
  "language_info": {
   "codemirror_mode": {
    "name": "ipython",
    "version": 3
   },
   "file_extension": ".py",
   "mimetype": "text/x-python",
   "name": "python",
   "nbconvert_exporter": "python",
   "pygments_lexer": "ipython3",
   "version": "3.7.0"
  }
 },
 "nbformat": 4,
 "nbformat_minor": 2
}
